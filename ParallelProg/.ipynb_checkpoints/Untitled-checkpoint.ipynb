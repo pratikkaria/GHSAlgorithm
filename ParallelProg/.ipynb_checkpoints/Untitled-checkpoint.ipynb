{
 "cells": [
  {
   "cell_type": "code",
   "execution_count": 3,
   "metadata": {},
   "outputs": [],
   "source": [
    "import multiprocessing\n",
    "import os"
   ]
  },
  {
   "cell_type": "code",
   "execution_count": 4,
   "metadata": {},
   "outputs": [
    {
     "data": {
      "text/plain": [
       "4"
      ]
     },
     "execution_count": 4,
     "metadata": {},
     "output_type": "execute_result"
    }
   ],
   "source": [
    "multiprocessing.cpu_count()"
   ]
  },
  {
   "cell_type": "code",
   "execution_count": 5,
   "metadata": {},
   "outputs": [],
   "source": [
    "def print_square(n):\n",
    "    print(os.getpid())\n",
    "    print(\"Square:\",n*n)"
   ]
  },
  {
   "cell_type": "code",
   "execution_count": 6,
   "metadata": {},
   "outputs": [],
   "source": [
    "def print_cube(n):\n",
    "    print(os.getpid())\n",
    "    print(\"Cube:\",n*n*n)"
   ]
  },
  {
   "cell_type": "code",
   "execution_count": 7,
   "metadata": {},
   "outputs": [],
   "source": [
    "#Once p1 and p2 are created they can be run only once. For running multiple times, you have to create it again\n",
    "p1 = multiprocessing.Process(target=print_cube,args=(3,))\n",
    "p2 = multiprocessing.Process(target=print_square,args=(4,))"
   ]
  },
  {
   "cell_type": "code",
   "execution_count": 8,
   "metadata": {},
   "outputs": [
    {
     "name": "stdout",
     "output_type": "stream",
     "text": [
      "30777\n",
      "30780\n",
      "Cube: 27\n",
      "Square: 16\n",
      "Done\n"
     ]
    }
   ],
   "source": [
    "p1.start() \n",
    "p2.start()\n",
    "p1.join() #Waits the program until process is completed\n",
    "p2.join()\n",
    "print(\"Done\") #This actually means process p1 is complete\n",
    "\n",
    "\n",
    "#p1.start()\n",
    "#print(\"Done\") Does not mean that process p1 is completed\n"
   ]
  },
  {
   "cell_type": "code",
   "execution_count": 17,
   "metadata": {},
   "outputs": [
    {
     "data": {
      "text/plain": [
       "False"
      ]
     },
     "execution_count": 17,
     "metadata": {},
     "output_type": "execute_result"
    }
   ],
   "source": [
    "p1.is_alive()"
   ]
  },
  {
   "cell_type": "code",
   "execution_count": null,
   "metadata": {},
   "outputs": [],
   "source": []
  },
  {
   "cell_type": "code",
   "execution_count": 11,
   "metadata": {},
   "outputs": [],
   "source": [
    "result=[]"
   ]
  },
  {
   "cell_type": "code",
   "execution_count": 17,
   "metadata": {},
   "outputs": [],
   "source": [
    "def squareList(mylist):\n",
    "    global result\n",
    "    \n",
    "    for num in mylist:\n",
    "        result.append(num*num)\n",
    "        \n",
    "    print(\"Result {}\".format(result))#not empty\n"
   ]
  },
  {
   "cell_type": "code",
   "execution_count": 18,
   "metadata": {},
   "outputs": [],
   "source": [
    "mylist = [1,2,3,4]"
   ]
  },
  {
   "cell_type": "code",
   "execution_count": 19,
   "metadata": {},
   "outputs": [],
   "source": [
    "p1 = multiprocessing.Process(target=squareList,args=(mylist,))"
   ]
  },
  {
   "cell_type": "code",
   "execution_count": 20,
   "metadata": {},
   "outputs": [
    {
     "name": "stdout",
     "output_type": "stream",
     "text": [
      "Result [1, 4, 9, 16]\n"
     ]
    }
   ],
   "source": [
    "p1.start()\n",
    "p1.join() "
   ]
  },
  {
   "cell_type": "code",
   "execution_count": 22,
   "metadata": {},
   "outputs": [
    {
     "data": {
      "text/plain": [
       "[]"
      ]
     },
     "execution_count": 22,
     "metadata": {},
     "output_type": "execute_result"
    }
   ],
   "source": [
    "result #Empty as it belongs to parent process and parent and child process have separate memory space so global result of child process is modified"
   ]
  },
  {
   "cell_type": "code",
   "execution_count": null,
   "metadata": {},
   "outputs": [],
   "source": []
  },
  {
   "cell_type": "markdown",
   "metadata": {},
   "source": [
    "How to solve it\n",
    "\n",
    "Shared Memory\n",
    "\n",
    "Multiprocessing module provides array and value objects to share data between processes\n",
    "\n",
    "i) Array - a ctypes array allocated from shared memory\n",
    "ii) Value - a ctypes object allocated from shared memory"
   ]
  },
  {
   "cell_type": "code",
   "execution_count": 26,
   "metadata": {},
   "outputs": [],
   "source": [
    "def squareList(mylist,result,squaresum):\n",
    "    \n",
    "    for idx,num in enumerate(mylist):\n",
    "        result[idx] = num*num\n",
    "    \n",
    "    squaresum.value=sum(result)\n",
    "        \n",
    "#     print(\"Result {}\".format(result))#not empty"
   ]
  },
  {
   "cell_type": "code",
   "execution_count": 27,
   "metadata": {},
   "outputs": [],
   "source": [
    "mylist=[1,2,3,4]\n",
    "result=multiprocessing.Array('i',4) #i=int, 4=size\n",
    "square_sum = multiprocessing.Value('i')\n",
    "\n",
    "p1=multiprocessing.Process(target=squareList,args=(mylist,result,square_sum))"
   ]
  },
  {
   "cell_type": "code",
   "execution_count": 28,
   "metadata": {},
   "outputs": [],
   "source": [
    "p1.start()\n",
    "p1.join()"
   ]
  },
  {
   "cell_type": "code",
   "execution_count": 32,
   "metadata": {},
   "outputs": [
    {
     "name": "stdout",
     "output_type": "stream",
     "text": [
      "30\n",
      "1\n",
      "4\n",
      "9\n",
      "16\n"
     ]
    }
   ],
   "source": [
    "#main process vars changed. This is concept of shared memory\n",
    "print(square_sum.value)\n",
    "for i in result:\n",
    "    print(i)"
   ]
  },
  {
   "cell_type": "code",
   "execution_count": null,
   "metadata": {},
   "outputs": [],
   "source": []
  },
  {
   "cell_type": "markdown",
   "metadata": {},
   "source": [
    "Method 2\n",
    "\n",
    "Server Process"
   ]
  },
  {
   "cell_type": "code",
   "execution_count": 37,
   "metadata": {},
   "outputs": [],
   "source": [
    "def printRecords(records):\n",
    "    for record in records:\n",
    "        print(\"Name: {0}\\nScore: {1}\\n\".format(record[0],record[1]))\n",
    "\n",
    "def insertRecord(record,records):\n",
    "    records.append(record)\n",
    "    print(\"New record inserted\")"
   ]
  },
  {
   "cell_type": "code",
   "execution_count": 40,
   "metadata": {},
   "outputs": [
    {
     "name": "stdout",
     "output_type": "stream",
     "text": [
      "New record inserted\n",
      "Name: Sam\n",
      "Score: 10\n",
      "\n",
      "Name: Adam\n",
      "Score: 9\n",
      "\n",
      "Name: Kevin\n",
      "Score: 9\n",
      "\n",
      "Name: Jeff\n",
      "Score: 8\n",
      "\n"
     ]
    }
   ],
   "source": [
    "with multiprocessing.Manager() as manager:\n",
    "    records = manager.list([('Sam',10),('Adam',9),('Kevin',9)]) #Shared Data\n",
    "    new_record = ('Jeff',8)\n",
    "    \n",
    "    p1=multiprocessing.Process(target=insertRecord,args=(new_record,records))\n",
    "    p2=multiprocessing.Process(target=printRecords,args=(records,))\n",
    "    p1.start()\n",
    "    p1.join()    \n",
    "    \n",
    "    p2.start()\n",
    "    p2.join()"
   ]
  },
  {
   "cell_type": "code",
   "execution_count": null,
   "metadata": {},
   "outputs": [],
   "source": []
  },
  {
   "cell_type": "markdown",
   "metadata": {},
   "source": [
    "Communication Between Processes\n",
    "\n",
    "Effect multiprocessing requires some communication between processes. This can be done by:\n",
    "\n",
    "1)Queue (A python object can pass through a queue)\n"
   ]
  },
  {
   "cell_type": "code",
   "execution_count": 45,
   "metadata": {},
   "outputs": [],
   "source": [
    "def square_list(mylist,q):\n",
    "    for num in mylist:\n",
    "        q.put(num*num) #putting messages in queue\n",
    "        \n",
    "def print_list(q):\n",
    "    while not q.empty():\n",
    "        print(q.get()) #get messages"
   ]
  },
  {
   "cell_type": "code",
   "execution_count": 46,
   "metadata": {},
   "outputs": [],
   "source": [
    "q = multiprocessing.Queue()"
   ]
  },
  {
   "cell_type": "code",
   "execution_count": 50,
   "metadata": {},
   "outputs": [],
   "source": [
    "p1 = multiprocessing.Process(target=square_list,args=([1,2,3,4],q))\n",
    "p2 = multiprocessing.Process(target=print_list,args=(q,))"
   ]
  },
  {
   "cell_type": "code",
   "execution_count": 51,
   "metadata": {},
   "outputs": [
    {
     "name": "stdout",
     "output_type": "stream",
     "text": [
      "1\n",
      "4\n",
      "9\n",
      "16\n"
     ]
    }
   ],
   "source": [
    "p1.start()\n",
    "p2.start()\n",
    "\n",
    "p1.join()\n",
    "p2.join()"
   ]
  },
  {
   "cell_type": "markdown",
   "metadata": {},
   "source": [
    "2) Pipes\n",
    "\n",
    "- Pipes can have only 2 end points\n",
    "- Queues can have multiple end points\n",
    "- If you need more than 2 points to communicate use Queue\n",
    "- If you need performance use pipe as it is faster than queue"
   ]
  },
  {
   "cell_type": "code",
   "execution_count": 52,
   "metadata": {},
   "outputs": [],
   "source": [
    "msgs=[\"hey\",\"hello\",\"hru?\",\"end\"]\n",
    "\n"
   ]
  },
  {
   "cell_type": "code",
   "execution_count": 53,
   "metadata": {},
   "outputs": [],
   "source": [
    "def send_msg(conn,msgs):\n",
    "    for msg in msgs:\n",
    "        conn.send(msg)\n",
    "    \n",
    "    conn.close()\n",
    "\n",
    "def rcv_msg(conn):\n",
    "    while(1):\n",
    "        msg=conn.recv()\n",
    "        if msg==\"end\":\n",
    "            break\n",
    "        print(msg)"
   ]
  },
  {
   "cell_type": "code",
   "execution_count": 55,
   "metadata": {},
   "outputs": [],
   "source": [
    "parent_conn,child_conn=multiprocessing.Pipe()\n",
    "\n",
    "p1 = multiprocessing.Process(target=send_msg,args=(parent_conn,msgs))\n",
    "p2 = multiprocessing.Process(target=rcv_msg,args=(child_conn,))"
   ]
  },
  {
   "cell_type": "code",
   "execution_count": 56,
   "metadata": {},
   "outputs": [
    {
     "name": "stdout",
     "output_type": "stream",
     "text": [
      "hey\n",
      "hello\n",
      "hru?\n"
     ]
    }
   ],
   "source": [
    "p1.start()\n",
    "p2.start()\n",
    "p1.join()\n",
    "p2.join()"
   ]
  },
  {
   "cell_type": "code",
   "execution_count": null,
   "metadata": {},
   "outputs": [],
   "source": []
  }
 ],
 "metadata": {
  "kernelspec": {
   "display_name": "Python 3",
   "language": "python",
   "name": "python3"
  },
  "language_info": {
   "codemirror_mode": {
    "name": "ipython",
    "version": 3
   },
   "file_extension": ".py",
   "mimetype": "text/x-python",
   "name": "python",
   "nbconvert_exporter": "python",
   "pygments_lexer": "ipython3",
   "version": "3.7.6"
  }
 },
 "nbformat": 4,
 "nbformat_minor": 4
}
