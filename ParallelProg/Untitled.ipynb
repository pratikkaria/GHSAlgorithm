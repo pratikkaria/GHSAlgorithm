{
 "cells": [
  {
   "cell_type": "code",
   "execution_count": 4,
   "metadata": {},
   "outputs": [],
   "source": [
    "import multiprocessing\n",
    "import os"
   ]
  },
  {
   "cell_type": "code",
   "execution_count": 5,
   "metadata": {},
   "outputs": [
    {
     "data": {
      "text/plain": [
       "4"
      ]
     },
     "execution_count": 5,
     "metadata": {},
     "output_type": "execute_result"
    }
   ],
   "source": [
    "multiprocessing.cpu_count()"
   ]
  },
  {
   "cell_type": "code",
   "execution_count": 6,
   "metadata": {},
   "outputs": [],
   "source": [
    "def print_square(n):\n",
    "    print(os.getpid())\n",
    "    print(\"Square:\",n*n)"
   ]
  },
  {
   "cell_type": "code",
   "execution_count": 7,
   "metadata": {},
   "outputs": [],
   "source": [
    "def print_cube(n):\n",
    "    print(os.getpid())\n",
    "    print(\"Cube:\",n*n*n)"
   ]
  },
  {
   "cell_type": "code",
   "execution_count": 8,
   "metadata": {},
   "outputs": [],
   "source": [
    "#Once p1 and p2 are created they can be run only once. For running multiple times, you have to create it again\n",
    "p1 = multiprocessing.Process(target=print_cube,args=(3,))\n",
    "p2 = multiprocessing.Process(target=print_square,args=(4,))"
   ]
  },
  {
   "cell_type": "code",
   "execution_count": 9,
   "metadata": {},
   "outputs": [
    {
     "name": "stdout",
     "output_type": "stream",
     "text": [
      "4964\n",
      "Cube: 27\n",
      "4967\n",
      "Square: 16\n",
      "Done\n"
     ]
    }
   ],
   "source": [
    "p1.start() \n",
    "p2.start()\n",
    "p1.join() #Waits the program until process is completed\n",
    "p2.join()\n",
    "print(\"Done\") #This actually means process p1 is complete\n",
    "\n",
    "\n",
    "#p1.start()\n",
    "#print(\"Done\") Does not mean that process p1 is completed\n"
   ]
  },
  {
   "cell_type": "code",
   "execution_count": 10,
   "metadata": {},
   "outputs": [
    {
     "data": {
      "text/plain": [
       "False"
      ]
     },
     "execution_count": 10,
     "metadata": {},
     "output_type": "execute_result"
    }
   ],
   "source": [
    "p1.is_alive()"
   ]
  },
  {
   "cell_type": "code",
   "execution_count": null,
   "metadata": {},
   "outputs": [],
   "source": []
  },
  {
   "cell_type": "code",
   "execution_count": 11,
   "metadata": {},
   "outputs": [],
   "source": [
    "result=[]"
   ]
  },
  {
   "cell_type": "code",
   "execution_count": 12,
   "metadata": {},
   "outputs": [],
   "source": [
    "def squareList(mylist):\n",
    "    global result\n",
    "    \n",
    "    for num in mylist:\n",
    "        result.append(num*num)\n",
    "        \n",
    "    print(\"Result {}\".format(result))#not empty\n"
   ]
  },
  {
   "cell_type": "code",
   "execution_count": 13,
   "metadata": {},
   "outputs": [],
   "source": [
    "mylist = [1,2,3,4]"
   ]
  },
  {
   "cell_type": "code",
   "execution_count": 14,
   "metadata": {},
   "outputs": [],
   "source": [
    "p1 = multiprocessing.Process(target=squareList,args=(mylist,))"
   ]
  },
  {
   "cell_type": "code",
   "execution_count": 15,
   "metadata": {},
   "outputs": [
    {
     "name": "stdout",
     "output_type": "stream",
     "text": [
      "Result [1, 4, 9, 16]\n"
     ]
    }
   ],
   "source": [
    "p1.start()\n",
    "p1.join() "
   ]
  },
  {
   "cell_type": "code",
   "execution_count": 16,
   "metadata": {},
   "outputs": [
    {
     "data": {
      "text/plain": [
       "[]"
      ]
     },
     "execution_count": 16,
     "metadata": {},
     "output_type": "execute_result"
    }
   ],
   "source": [
    "result #Empty as it belongs to parent process and parent and child process have separate memory space so global result of child process is modified"
   ]
  },
  {
   "cell_type": "code",
   "execution_count": null,
   "metadata": {},
   "outputs": [],
   "source": []
  },
  {
   "cell_type": "markdown",
   "metadata": {},
   "source": [
    "How to solve it\n",
    "\n",
    "Shared Memory\n",
    "\n",
    "Multiprocessing module provides array and value objects to share data between processes\n",
    "\n",
    "i) Array - a ctypes array allocated from shared memory\n",
    "ii) Value - a ctypes object allocated from shared memory"
   ]
  },
  {
   "cell_type": "code",
   "execution_count": 17,
   "metadata": {},
   "outputs": [],
   "source": [
    "def squareList(mylist,result,squaresum):\n",
    "    \n",
    "    for idx,num in enumerate(mylist):\n",
    "        result[idx] = num*num\n",
    "    \n",
    "    squaresum.value=sum(result)\n",
    "        \n",
    "#     print(\"Result {}\".format(result))#not empty"
   ]
  },
  {
   "cell_type": "code",
   "execution_count": 18,
   "metadata": {},
   "outputs": [],
   "source": [
    "mylist=[1,2,3,4]\n",
    "result=multiprocessing.Array('i',4) #i=int, 4=size\n",
    "square_sum = multiprocessing.Value('i')\n",
    "\n",
    "p1=multiprocessing.Process(target=squareList,args=(mylist,result,square_sum))"
   ]
  },
  {
   "cell_type": "code",
   "execution_count": 19,
   "metadata": {},
   "outputs": [],
   "source": [
    "p1.start()\n",
    "p1.join()"
   ]
  },
  {
   "cell_type": "code",
   "execution_count": 20,
   "metadata": {},
   "outputs": [
    {
     "name": "stdout",
     "output_type": "stream",
     "text": [
      "30\n",
      "1\n",
      "4\n",
      "9\n",
      "16\n"
     ]
    }
   ],
   "source": [
    "#main process vars changed. This is concept of shared memory\n",
    "print(square_sum.value)\n",
    "for i in result:\n",
    "    print(i)"
   ]
  },
  {
   "cell_type": "code",
   "execution_count": null,
   "metadata": {},
   "outputs": [],
   "source": []
  },
  {
   "cell_type": "markdown",
   "metadata": {},
   "source": [
    "Method 2\n",
    "\n",
    "Server Process"
   ]
  },
  {
   "cell_type": "code",
   "execution_count": 21,
   "metadata": {},
   "outputs": [],
   "source": [
    "def printRecords(records):\n",
    "    for record in records:\n",
    "        print(\"Name: {0}\\nScore: {1}\\n\".format(record[0],record[1]))\n",
    "\n",
    "def insertRecord(record,records):\n",
    "    records.append(record)\n",
    "    print(\"New record inserted\")"
   ]
  },
  {
   "cell_type": "code",
   "execution_count": 22,
   "metadata": {},
   "outputs": [
    {
     "name": "stdout",
     "output_type": "stream",
     "text": [
      "New record inserted\n",
      "Name: Sam\n",
      "Score: 10\n",
      "\n",
      "Name: Adam\n",
      "Score: 9\n",
      "\n",
      "Name: Kevin\n",
      "Score: 9\n",
      "\n",
      "Name: Jeff\n",
      "Score: 8\n",
      "\n"
     ]
    }
   ],
   "source": [
    "with multiprocessing.Manager() as manager:\n",
    "    records = manager.list([('Sam',10),('Adam',9),('Kevin',9)]) #Shared Data\n",
    "    new_record = ('Jeff',8)\n",
    "    \n",
    "    p1=multiprocessing.Process(target=insertRecord,args=(new_record,records))\n",
    "    p2=multiprocessing.Process(target=printRecords,args=(records,))\n",
    "    p1.start()\n",
    "    p1.join()    \n",
    "    \n",
    "    p2.start()\n",
    "    p2.join()"
   ]
  },
  {
   "cell_type": "code",
   "execution_count": null,
   "metadata": {},
   "outputs": [],
   "source": []
  },
  {
   "cell_type": "markdown",
   "metadata": {},
   "source": [
    "Communication Between Processes\n",
    "\n",
    "Effect multiprocessing requires some communication between processes. This can be done by:\n",
    "\n",
    "1)Queue (A python object can pass through a queue)\n"
   ]
  },
  {
   "cell_type": "code",
   "execution_count": 23,
   "metadata": {},
   "outputs": [],
   "source": [
    "def square_list(mylist,q):\n",
    "    for num in mylist:\n",
    "        q.put(num*num) #putting messages in queue\n",
    "        \n",
    "def print_list(q):\n",
    "    while not q.empty():\n",
    "        print(q.get()) #get messages"
   ]
  },
  {
   "cell_type": "code",
   "execution_count": 24,
   "metadata": {},
   "outputs": [],
   "source": [
    "q = multiprocessing.Queue()"
   ]
  },
  {
   "cell_type": "code",
   "execution_count": 25,
   "metadata": {},
   "outputs": [],
   "source": [
    "p1 = multiprocessing.Process(target=square_list,args=([1,2,3,4],q))\n",
    "p2 = multiprocessing.Process(target=print_list,args=(q,))"
   ]
  },
  {
   "cell_type": "code",
   "execution_count": 26,
   "metadata": {},
   "outputs": [
    {
     "name": "stdout",
     "output_type": "stream",
     "text": [
      "1\n",
      "4\n",
      "9\n",
      "16\n"
     ]
    }
   ],
   "source": [
    "p1.start()\n",
    "p2.start()\n",
    "\n",
    "p1.join()\n",
    "p2.join()"
   ]
  },
  {
   "cell_type": "markdown",
   "metadata": {},
   "source": [
    "2) Pipes\n",
    "\n",
    "- Pipes can have only 2 end points\n",
    "- Queues can have multiple end points\n",
    "- If you need more than 2 points to communicate use Queue\n",
    "- If you need performance use pipe as it is faster than queue"
   ]
  },
  {
   "cell_type": "code",
   "execution_count": 27,
   "metadata": {},
   "outputs": [],
   "source": [
    "msgs=[\"hey\",\"hello\",\"hru?\",\"end\"]\n",
    "\n"
   ]
  },
  {
   "cell_type": "code",
   "execution_count": 28,
   "metadata": {},
   "outputs": [],
   "source": [
    "def send_msg(conn,msgs):\n",
    "    for msg in msgs:\n",
    "        conn.send(msg)\n",
    "    \n",
    "    conn.close()\n",
    "\n",
    "def rcv_msg(conn):\n",
    "    while(1):\n",
    "        msg=conn.recv()\n",
    "        if msg==\"end\":\n",
    "            break\n",
    "        print(msg)"
   ]
  },
  {
   "cell_type": "code",
   "execution_count": 29,
   "metadata": {},
   "outputs": [],
   "source": [
    "parent_conn,child_conn=multiprocessing.Pipe()\n",
    "\n",
    "p1 = multiprocessing.Process(target=send_msg,args=(parent_conn,msgs))\n",
    "p2 = multiprocessing.Process(target=rcv_msg,args=(child_conn,))"
   ]
  },
  {
   "cell_type": "code",
   "execution_count": 30,
   "metadata": {},
   "outputs": [
    {
     "name": "stdout",
     "output_type": "stream",
     "text": [
      "hey\n",
      "hello\n",
      "hru?\n"
     ]
    }
   ],
   "source": [
    "p1.start()\n",
    "p2.start()\n",
    "p1.join()\n",
    "p2.join()"
   ]
  },
  {
   "cell_type": "markdown",
   "metadata": {},
   "source": [
    "**Pooling between the processes**"
   ]
  },
  {
   "cell_type": "code",
   "execution_count": 33,
   "metadata": {},
   "outputs": [
    {
     "name": "stdout",
     "output_type": "stream",
     "text": [
      "1 : 4719\n",
      "2 : 4719\n",
      "3 : 4719\n",
      "4 : 4719\n",
      "5 : 4719\n"
     ]
    }
   ],
   "source": [
    "def square(n):\n",
    "    print(n,\":\",os.getpid())\n",
    "    return n*n\n",
    "\n",
    "mylist=[1,2,3,4,5]\n",
    "result=[]\n",
    "\n",
    "for num in mylist:\n",
    "    result.append(square(num))"
   ]
  },
  {
   "cell_type": "code",
   "execution_count": 34,
   "metadata": {},
   "outputs": [
    {
     "name": "stdout",
     "output_type": "stream",
     "text": [
      "2 : 5063\n",
      "4 : 5064\n",
      "5 : 5063\n",
      "3 : 5065\n",
      "1 : 5062\n"
     ]
    }
   ],
   "source": [
    "#How to use pool\n",
    "p = multiprocessing.Pool()\n",
    "result = p.map(square,mylist)"
   ]
  },
  {
   "cell_type": "code",
   "execution_count": 35,
   "metadata": {},
   "outputs": [
    {
     "data": {
      "text/plain": [
       "[1, 4, 9, 16, 25]"
      ]
     },
     "execution_count": 35,
     "metadata": {},
     "output_type": "execute_result"
    }
   ],
   "source": [
    "result"
   ]
  },
  {
   "cell_type": "code",
   "execution_count": null,
   "metadata": {},
   "outputs": [],
   "source": []
  },
  {
   "cell_type": "markdown",
   "metadata": {},
   "source": [
    "**Process Syncronization between the processes**"
   ]
  },
  {
   "cell_type": "code",
   "execution_count": 94,
   "metadata": {},
   "outputs": [],
   "source": [
    "def withdraw(balance,lock):\n",
    "    for _ in range(1000):\n",
    "        lock.acquire()\n",
    "        balance.value=balance.value-1\n",
    "        lock.release()\n",
    "        \n",
    "def deposit(balance,lock):\n",
    "    for _ in range(1000):\n",
    "        lock.acquire()\n",
    "        balance.value=balance.value+1\n",
    "        lock.release()"
   ]
  },
  {
   "cell_type": "code",
   "execution_count": 95,
   "metadata": {},
   "outputs": [],
   "source": [
    "def perform_transaction():\n",
    "    balance = multiprocessing.Value('i',100)\n",
    "\n",
    "    lock = multiprocessing.Lock()\n",
    "    p1 = multiprocessing.Process(target=withdraw,args=(balance,lock))\n",
    "    p2 = multiprocessing.Process(target=deposit,args=(balance,lock))\n",
    "\n",
    "    p1.start()\n",
    "    p2.start()\n",
    "    p1.join()\n",
    "    p2.join()\n",
    "    \n",
    "    print(\"Balance: {}\".format(balance.value))"
   ]
  },
  {
   "cell_type": "code",
   "execution_count": 101,
   "metadata": {
    "scrolled": true
   },
   "outputs": [
    {
     "name": "stdout",
     "output_type": "stream",
     "text": [
      "Balance: 100\n",
      "Balance: 100\n",
      "Balance: 100\n",
      "Balance: 100\n",
      "Balance: 100\n",
      "Balance: 100\n",
      "Balance: 100\n",
      "Balance: 100\n",
      "Balance: 100\n",
      "Balance: 100\n"
     ]
    }
   ],
   "source": [
    "for _ in range(10):\n",
    "    perform_transaction()"
   ]
  },
  {
   "cell_type": "code",
   "execution_count": null,
   "metadata": {},
   "outputs": [],
   "source": []
  },
  {
   "cell_type": "markdown",
   "metadata": {},
   "source": [
    "**Multithreading**"
   ]
  },
  {
   "cell_type": "code",
   "execution_count": 116,
   "metadata": {},
   "outputs": [],
   "source": [
    "def print_cube(n):\n",
    "    print(threading.current_thread().name,os.getpid())\n",
    "    print(\"Cube:{}\".format(n*n*n))\n",
    "    \n",
    "def print_square(n):\n",
    "    print(threading.current_thread().name,os.getpid())\n",
    "    print(\"Square:{}\".format(n*n))"
   ]
  },
  {
   "cell_type": "code",
   "execution_count": 117,
   "metadata": {},
   "outputs": [],
   "source": [
    "import threading"
   ]
  },
  {
   "cell_type": "code",
   "execution_count": 118,
   "metadata": {},
   "outputs": [
    {
     "name": "stdout",
     "output_type": "stream",
     "text": [
      "t1 4719\n",
      "Cube:27\n",
      "t2 4719\n",
      "Square:16\n"
     ]
    }
   ],
   "source": [
    "t1 = threading.Thread(target=print_cube,args=(3,),name=\"t1\")\n",
    "t2 = threading.Thread(target=print_square,args=(4,),name=\"t2\")\n",
    "\n",
    "t1.start()\n",
    "t2.start()\n",
    "t1.join()\n",
    "t2.join()"
   ]
  },
  {
   "cell_type": "markdown",
   "metadata": {},
   "source": [
    "**Thread Synchronization**"
   ]
  },
  {
   "cell_type": "code",
   "execution_count": 129,
   "metadata": {},
   "outputs": [],
   "source": [
    "x=0\n",
    "def increment(lock):\n",
    "    global x\n",
    "    lock.acquire()\n",
    "    x+=1\n",
    "    lock.release()"
   ]
  },
  {
   "cell_type": "code",
   "execution_count": 130,
   "metadata": {},
   "outputs": [],
   "source": [
    "def thread_task(lock):\n",
    "    for _ in range(100000):\n",
    "        increment(lock)\n",
    "        \n",
    "def main_task():\n",
    "    global x\n",
    "    x=0\n",
    "    \n",
    "    lock=threading.Lock()\n",
    "    t1=threading.Thread(target=thread_task,args=(lock,))\n",
    "    t2=threading.Thread(target=thread_task,args=(lock,))\n",
    "    \n",
    "    t1.start()\n",
    "    t2.start()\n",
    "    \n",
    "    t1.join()\n",
    "    t2.join()\n",
    "    "
   ]
  },
  {
   "cell_type": "code",
   "execution_count": 131,
   "metadata": {},
   "outputs": [
    {
     "name": "stdout",
     "output_type": "stream",
     "text": [
      "Iteration 0: x:200000\n",
      "Iteration 1: x:200000\n",
      "Iteration 2: x:200000\n",
      "Iteration 3: x:200000\n",
      "Iteration 4: x:200000\n",
      "Iteration 5: x:200000\n",
      "Iteration 6: x:200000\n",
      "Iteration 7: x:200000\n",
      "Iteration 8: x:200000\n",
      "Iteration 9: x:200000\n"
     ]
    }
   ],
   "source": [
    "for i in range(10):\n",
    "    main_task()\n",
    "    print(\"Iteration {0}: x:{1}\".format(i,x))"
   ]
  },
  {
   "cell_type": "code",
   "execution_count": null,
   "metadata": {},
   "outputs": [],
   "source": []
  }
 ],
 "metadata": {
  "kernelspec": {
   "display_name": "Python 3",
   "language": "python",
   "name": "python3"
  },
  "language_info": {
   "codemirror_mode": {
    "name": "ipython",
    "version": 3
   },
   "file_extension": ".py",
   "mimetype": "text/x-python",
   "name": "python",
   "nbconvert_exporter": "python",
   "pygments_lexer": "ipython3",
   "version": "3.7.6"
  }
 },
 "nbformat": 4,
 "nbformat_minor": 4
}
