{
 "cells": [
  {
   "cell_type": "code",
   "execution_count": 39,
   "metadata": {},
   "outputs": [],
   "source": [
    "class Edge:\n",
    "    def __init__(self, first,second,weight):\n",
    "        self.firstNode = first\n",
    "        self.secondNode = second\n",
    "        self.weight = weight\n",
    "        self.state = 0 #Basic = 0, Branch = 1, Reject = 2\n",
    "        \n",
    "    def __str__(self):\n",
    "        return str(self.__class__) + \": \" + str(self.__dict__)"
   ]
  },
  {
   "cell_type": "code",
   "execution_count": 40,
   "metadata": {},
   "outputs": [],
   "source": [
    "class Node:\n",
    "        def __init__(self,nodeId,edges):\n",
    "        self.neighbours=[]\n",
    "        self.edges=[]\n",
    "        for i in edges:\n",
    "            if i.firstNode==nodeId:\n",
    "                self.neighbours.append(i.secondNode)\n",
    "                self.edges.append(i)\n",
    "            elif i.secondNode==nodeId:\n",
    "                self.neighbours.append(i.firstNode)\n",
    "                self.edges.append(i)\n",
    "                \n",
    "                     \n",
    "        self.state = 0 #Sleep = 0, Find = 1, Found = 2   \n",
    "        self.level=0\n",
    "        self.id = nodeId\n",
    "        self.parent=-1\n",
    "        self.bestWeight=-1\n",
    "        self.bestNode=-1\n",
    "        self.rec=-1\n",
    "        self.testNode=-1\n",
    "        \n",
    "    def __str__(self):\n",
    "        return str(self.__class__) + \": \" + str(self.__dict__)"
   ]
  },
  {
   "cell_type": "code",
   "execution_count": 42,
   "metadata": {},
   "outputs": [
    {
     "name": "stdout",
     "output_type": "stream",
     "text": [
      "100\n"
     ]
    }
   ],
   "source": [
    "def main():\n",
    "    fp = open(\"input.txt\",\"r\")\n",
    "    fileRead = fp.readlines()\n",
    "    fp.close()\n",
    "    allNodes = []\n",
    "    allEdges = []\n",
    "    numNodes = int(fileRead[0])\n",
    "    for i in range(1,len(fileRead)):\n",
    "        temp = fileRead[i].split(\"(\")[1].split(\")\")[0].replace(\" \",\"\").split(\",\")\n",
    "        allEdges.append(Edge(int(temp[0]),int(temp[1]),int(temp[2])))\n",
    "    \n",
    "    for i in range(numNodes):\n",
    "        allNodes.append(Node(i,allEdges))\n",
    "    \n",
    "    numThreads = numNodes\n",
    "        \n",
    "if __name__ == \"__main__\":\n",
    "    main()"
   ]
  },
  {
   "cell_type": "code",
   "execution_count": null,
   "metadata": {},
   "outputs": [],
   "source": []
  },
  {
   "cell_type": "code",
   "execution_count": null,
   "metadata": {},
   "outputs": [],
   "source": []
  }
 ],
 "metadata": {
  "kernelspec": {
   "display_name": "Python 3",
   "language": "python",
   "name": "python3"
  },
  "language_info": {
   "codemirror_mode": {
    "name": "ipython",
    "version": 3
   },
   "file_extension": ".py",
   "mimetype": "text/x-python",
   "name": "python",
   "nbconvert_exporter": "python",
   "pygments_lexer": "ipython3",
   "version": "3.7.6"
  }
 },
 "nbformat": 4,
 "nbformat_minor": 4
}
